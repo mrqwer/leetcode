{
 "cells": [
  {
   "cell_type": "code",
   "execution_count": 11,
   "id": "4aa95c1c-dfce-4168-8142-2e4343544012",
   "metadata": {},
   "outputs": [
    {
     "ename": "TypeError",
     "evalue": "'NoneType' object is not subscriptable",
     "output_type": "error",
     "traceback": [
      "\u001b[0;31m---------------------------------------------------------------------------\u001b[0m",
      "\u001b[0;31mTypeError\u001b[0m                                 Traceback (most recent call last)",
      "Input \u001b[0;32mIn [11]\u001b[0m, in \u001b[0;36m<cell line: 8>\u001b[0;34m()\u001b[0m\n\u001b[1;32m      6\u001b[0m \u001b[38;5;66;03m# lst.sort()\u001b[39;00m\n\u001b[1;32m      7\u001b[0m lst\n\u001b[0;32m----> 8\u001b[0m \u001b[38;5;28mprint\u001b[39m((\u001b[43mlst\u001b[49m\u001b[43m[\u001b[49m\u001b[43m(\u001b[49m\u001b[43mn\u001b[49m\u001b[38;5;241;43m+\u001b[39;49m\u001b[43mm\u001b[49m\u001b[43m)\u001b[49m\u001b[38;5;241;43m/\u001b[39;49m\u001b[38;5;241;43m/\u001b[39;49m\u001b[38;5;241;43m2\u001b[39;49m\u001b[43m]\u001b[49m))\n",
      "\u001b[0;31mTypeError\u001b[0m: 'NoneType' object is not subscriptable"
     ]
    }
   ],
   "source": [
    "nums1 = [1, 3]\n",
    "nums2 = [2]\n",
    "n = len(nums1)\n",
    "m = len(nums2)\n",
    "lst = [nums1+nums2].sort()\n",
    "# lst.sort()\n",
    "lst\n",
    "print((lst[(n+m)//2]))"
   ]
  },
  {
   "cell_type": "code",
   "execution_count": 1,
   "id": "5b0d63e9-6b55-42a0-ba62-9c9a018e8560",
   "metadata": {},
   "outputs": [
    {
     "data": {
      "text/plain": [
       "1"
      ]
     },
     "execution_count": 1,
     "metadata": {},
     "output_type": "execute_result"
    }
   ],
   "source": [
    "3//2"
   ]
  },
  {
   "cell_type": "code",
   "execution_count": 19,
   "id": "7a05298d-098f-4e3b-8673-d225ed689925",
   "metadata": {},
   "outputs": [],
   "source": [
    "class Solution:\n",
    "    def findMedianSortedArrays(self, nums1, nums2) -> float:\n",
    "        n = len(nums1)\n",
    "        m = len(nums2)\n",
    "        lst = nums1+nums2\n",
    "        lst.sort()\n",
    "        if (n+m)%2 != 0:\n",
    "            return float(lst[(n+m)//2])\n",
    "        return (lst[(n+m)//2] + lst[(n+m)//2-1])/2"
   ]
  },
  {
   "cell_type": "code",
   "execution_count": 20,
   "id": "7b57fd83-e74a-4fa3-8246-210f6a35b5e5",
   "metadata": {},
   "outputs": [
    {
     "name": "stdout",
     "output_type": "stream",
     "text": [
      "2.5\n"
     ]
    }
   ],
   "source": [
    "sol = Solution()\n",
    "print(sol.findMedianSortedArrays([1, 2], [3, 4]))"
   ]
  },
  {
   "cell_type": "code",
   "execution_count": 1,
   "id": "ed15dd24-1178-4367-86cb-6525ebfb14c2",
   "metadata": {},
   "outputs": [],
   "source": [
    "t = '#'.join('@'+'babad'+'$')"
   ]
  },
  {
   "cell_type": "code",
   "execution_count": 3,
   "id": "ff17503b-cf81-42cc-8618-c5bb10ef7c2d",
   "metadata": {},
   "outputs": [
    {
     "data": {
      "text/plain": [
       "13"
      ]
     },
     "execution_count": 3,
     "metadata": {},
     "output_type": "execute_result"
    }
   ],
   "source": [
    "len(t)"
   ]
  },
  {
   "cell_type": "code",
   "execution_count": 4,
   "id": "e502f6f3-7365-4da5-a80e-f4ea60bbbfed",
   "metadata": {},
   "outputs": [],
   "source": [
    "def peak(arr):\n",
    "    return arr.index(max(arr))"
   ]
  },
  {
   "cell_type": "code",
   "execution_count": 7,
   "id": "101ec495-d0d2-49d2-8d51-dc3570720a28",
   "metadata": {},
   "outputs": [
    {
     "data": {
      "text/plain": [
       "1"
      ]
     },
     "execution_count": 7,
     "metadata": {},
     "output_type": "execute_result"
    }
   ],
   "source": [
    "peak([0,10,5,2])"
   ]
  },
  {
   "cell_type": "code",
   "execution_count": 8,
   "id": "27d7aefd-e5f0-412b-b488-f2673180b1a2",
   "metadata": {},
   "outputs": [
    {
     "data": {
      "text/plain": [
       "14.5"
      ]
     },
     "execution_count": 8,
     "metadata": {},
     "output_type": "execute_result"
    }
   ],
   "source": [
    "29/2"
   ]
  },
  {
   "cell_type": "code",
   "execution_count": null,
   "id": "0095c336-7732-445a-a2f2-5a4454ab264e",
   "metadata": {},
   "outputs": [],
   "source": []
  }
 ],
 "metadata": {
  "kernelspec": {
   "display_name": "Python 3 (ipykernel)",
   "language": "python",
   "name": "python3"
  },
  "language_info": {
   "codemirror_mode": {
    "name": "ipython",
    "version": 3
   },
   "file_extension": ".py",
   "mimetype": "text/x-python",
   "name": "python",
   "nbconvert_exporter": "python",
   "pygments_lexer": "ipython3",
   "version": "3.10.4"
  }
 },
 "nbformat": 4,
 "nbformat_minor": 5
}
